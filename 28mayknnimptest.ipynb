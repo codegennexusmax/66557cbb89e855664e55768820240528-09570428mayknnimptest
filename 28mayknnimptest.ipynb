{
 "cells": [
  {
   "cell_type": "markdown",
   "id": "7d670b66",
   "metadata": {},
   "source": [
    "***GENERATED CODE FOR 28mayknnimptest PIPELINE.***"
   ]
  },
  {
   "cell_type": "markdown",
   "id": "8ac82948",
   "metadata": {},
   "source": [
    "***DON'T EDIT THIS CODE.***"
   ]
  },
  {
   "cell_type": "markdown",
   "id": "983d7a6d",
   "metadata": {},
   "source": [
    "***CONNECTOR FUNCTIONS TO READ DATA.***"
   ]
  },
  {
   "cell_type": "code",
   "execution_count": null,
   "id": "c30b9b8d",
   "metadata": {},
   "outputs": [],
   "source": [
    "import os\n",
    "import datetime\n",
    "import logging\n",
    "import warnings\n",
    "warnings.filterwarnings('ignore')\n",
    "logging.basicConfig(format='%(levelname)s:%(message)s', level=logging.INFO)\n",
    "\n",
    "\n",
    "class HDFSConnector:\n",
    "\n",
    "    def fetch(spark, config):\n",
    "        ################### INPUT HADOOP HOST PORT TO CONNECT WITH ###############################\n",
    "        hdfs_server = str(os.environ['HDFS_SERVER'])\n",
    "        hdfs_port = int(os.environ['HDFS_PORT'])\n",
    "        df = spark.read.options(header='true', inferschema='true').csv(\n",
    "            f\"hdfs://{hdfs_server}:{hdfs_port}{eval(config)['url']}\", header='true')\n",
    "        display(df.limit(2).toPandas())\n",
    "        return df\n",
    "\n",
    "    def put(df, spark, config):\n",
    "        return df.write.format('csv').options(header='true' if eval(config)[\"is_header\"] == \"Use Header Line\" else 'false',\n",
    "                                              delimiter=eval(config)[\"delimiter\"]).save((\"%s %s\") % (datetime.datetime.now().strftime(\"%Y-%m-%d %H.%M.%S\")+\"_\", eval(config)['url']))\n"
   ]
  },
  {
   "cell_type": "markdown",
   "id": "d1b4cc98",
   "metadata": {},
   "source": [
    "***OPERATION FUNCTIONS***"
   ]
  },
  {
   "cell_type": "code",
   "execution_count": null,
   "id": "22d4ad9a",
   "metadata": {},
   "outputs": [],
   "source": [
    "import pyspark\n",
    "from dask.dataframe import from_pandas\n",
    "import json\n",
    "\n",
    "\n",
    "def replaceValues(df, functionsData, applyOn):\n",
    "    for columnData in applyOn:\n",
    "        for functionData in functionsData:\n",
    "            if functionData['replaceType'] == 'value':\n",
    "                if functionData['replaceValueType'] == 'min':\n",
    "                    minValue = df[columnData['columnName']].min().compute()\n",
    "                    df[columnData['columnName']] = df[columnData['columnName']].replace(\n",
    "                        toReplace, minValue)\n",
    "                elif functionData['replaceValueType'] == 'max':\n",
    "                    maxValue = df[columnData['columnName']].max().compute()\n",
    "                    df[columnData['columnName']] = df[columnData['columnName']].replace(\n",
    "                        toReplace, maxValue)\n",
    "                else:\n",
    "                    df[columnData['columnName']] = df[columnData['columnName']].replace(\n",
    "                        toReplace, functionData['ReplaceWith'])\n",
    "            elif functionData['replaceType'] == 'none':\n",
    "                if functionData['replaceValueType'] == 'min':\n",
    "                    minValue = df[columnData['columnName']].min().compute()\n",
    "                    df[columnData['columnName']\n",
    "                       ] = df[columnData['columnName']].replace(\"\", minValue)\n",
    "                    df[columnData['columnName']\n",
    "                       ] = df[columnData['columnName']].fillna(minValue)\n",
    "                elif functionData['replaceValueType'] == 'max':\n",
    "                    maxValue = df[columnData['columnName']].max().compute()\n",
    "                    df[columnData['columnName']\n",
    "                       ] = df[columnData['columnName']].replace(\"\", maxValue)\n",
    "                    df[columnData['columnName']\n",
    "                       ] = df[columnData['columnName']].fillna(maxValue)\n",
    "                else:\n",
    "                    df[columnData['columnName']] = df[columnData['columnName']].replace(\n",
    "                        \"\", functionData['ReplaceWith'])\n",
    "                    df[columnData['columnName']] = df[columnData['columnName']].fillna(\n",
    "                        functionData['ReplaceWith'])\n",
    "    return df\n",
    "\n",
    "\n",
    "def runDataCleansing(sparkDf, spark, config):\n",
    "    configObj = json.loads(config)\n",
    "    sparkDf.persist(pyspark.StorageLevel.MEMORY_AND_DISK)\n",
    "    df = from_pandas((sparkDf.toPandas()), npartitions=5)\n",
    "    functionList = configObj['functionsApplied']\n",
    "    Data_Cleansing_Methods = {\"replaceBy\": replaceValues,\n",
    "                              \"formula\": calculateFormula,\n",
    "                              \"aggregate\": aggregation,\n",
    "                              \"converttostringtype\": changeToString,\n",
    "                              \"editname\": renameColumns}\n",
    "    for function in functionList:\n",
    "        function['functionName']\n",
    "        df = Data_Cleansing_Methods[function['functionName']](df, function['functionsData'],\n",
    "                                                              function['applyOn'])\n",
    "    sparkDf = spark.createDataFrame(df.compute())\n",
    "\n",
    "    display(sparkDf.limit(2).toPandas())\n",
    "    return sparkDf\n"
   ]
  },
  {
   "cell_type": "markdown",
   "id": "011c161a",
   "metadata": {},
   "source": [
    "***CONNECTOR FUNCTIONS TO WRITE DATA.***"
   ]
  },
  {
   "cell_type": "code",
   "execution_count": null,
   "id": "551a72a5",
   "metadata": {},
   "outputs": [],
   "source": [
    "import datetime\n",
    "import requests\n",
    "import datetime\n",
    "import logging\n",
    "import warnings\n",
    "warnings.filterwarnings('ignore')\n",
    "logging.basicConfig(format='%(levelname)s:%(message)s', level=logging.INFO)\n",
    "\n",
    "\n",
    "class NumtraConnector:\n",
    "\n",
    "    def put(inStages, inStagesData, stageId, spark, config):\n",
    "        path = eval(config)['server_url']\n",
    "        baseType = eval(config)['baseType']\n",
    "        results_url = eval(config)['results_url']\n",
    "        server = eval(config)['server']\n",
    "        originalfile = eval(config)['orignalKey']\n",
    "        eval(config)['pathOnly']\n",
    "        filename = eval(config)['filename']\n",
    "        eval(config)['ser']\n",
    "        eval(config)['user']\n",
    "        eval(config)['password']\n",
    "        eval(config)['authSource']\n",
    "        eval(config)['user_id']\n",
    "        eval(config)['parent_id']\n",
    "        eval(config)['project_id']\n",
    "        time = str(int(datetime.datetime.now().timestamp()))\n",
    "\n",
    "        inStagesData[inStages[0]]\n",
    "\n",
    "        print(path)\n",
    "        print(baseType)\n",
    "        print(results_url)\n",
    "        print(server)\n",
    "        print(originalfile)\n",
    "        print(filename)\n",
    "\n",
    "        args = {\n",
    "            'url': path,\n",
    "            'baseType': baseType,\n",
    "            'originalfile': originalfile,\n",
    "            'filename': time + filename\n",
    "        }\n",
    "\n",
    "        response = requests.post(results_url, args)\n",
    "        return response\n"
   ]
  },
  {
   "cell_type": "markdown",
   "id": "cbde7475",
   "metadata": {},
   "source": [
    "***READING DATAFRAME***"
   ]
  },
  {
   "cell_type": "code",
   "execution_count": null,
   "id": "09f80dc1",
   "metadata": {},
   "outputs": [],
   "source": [
    "############## CREATE SPARK SESSION ############################ ENTER YOUR SPARK MASTER IP AND PORT TO CONNECT TO SERVER ################\n",
    "from pyspark.sql import SparkSession\n",
    "spark = SparkSession.builder.master('local[1]').getOrCreate()\n",
    "#%run 28mayknnimptestHooks.ipynb\n",
    "try:\n",
    "\t#sourcePreExecutionHook()\n",
    "\n",
    "\tbotonhouingtetnmqju = HDFSConnector.fetch(spark, \"{'url': '/FileStore/platform/testdata/1716878645561_Boston_Housing_TestN.csv', 'filename': 'Boston_Housing_TestN.csv', 'delimiter': ',', 'file_type': 'Delimeted', 'dbfs_token': '', 'dbfs_domain': '', 'FilePath': '/DataPipelineTest/Boston_Housing_TestN.csv', 'viewFileName': 'Boston_Housing_TestN.csv', 'is_header': 'Use Header Line', 'baseType': 'hdfs', 'server_url': '/nexusMax/NexusMaxPlatform/uploads/platform/', 'results_url': 'http://dnm.bfirst.ai:44040/api/read/hdfs'}\")\n",
    "\n",
    "except Exception as ex: \n",
    "\tlogging.error(ex)\n",
    "#spark.stop()\n"
   ]
  },
  {
   "cell_type": "markdown",
   "id": "a84492ca",
   "metadata": {},
   "source": [
    "***PERFORMING OPERATIONS***"
   ]
  },
  {
   "cell_type": "code",
   "execution_count": null,
   "id": "d1c07dec",
   "metadata": {},
   "outputs": [],
   "source": [
    "#%run 28mayknnimptestHooks.ipynb\n",
    "try:\n",
    "\t#operationPreExecutionHook()\n",
    "\n",
    "datapreparation = runDataCleansing(botonhouingtetnmqju,spark,json.dumps( {\"url\": \"/FileStore/platform/testdata/1716878645561_Boston_Housing_TestN.csv\", \"source_attributes\": {}, \"DataPrepFile\": \"/FileStore/platform/testdata/1716878645561_Boston_Housing_TestN.csv\", \"data_source\": \"platfiles\", \"startListenerOnly\": 1, \"dateColumnNames\": [], \"FilePath\": \"/FileStore/platform/extra/66557cd689e855664e55769e1716890095/0part.csv\", \"requestRatio\": 0.0, \"totalRows\": 19, \"BasicStats\": {\"missingValues\": 0.0, \"numberOfColumns\": 13, \"numberOfRows\": 19, \"duplicateRowCount\": 0, \"stats\": [{\"column\": \"CRIM\", \"alias\": \"CRIM\", \"generated\": 0, \"type\": \"real\", \"max\": 0.19539, \"min\": 0.01951, \"mean\": 0.08316473684210526, \"missing\": 0.0, \"stddev\": 0.05, \"outliers\": [0.19539], \"validation\": []}, {\"column\": \"ZN\", \"alias\": \"ZN\", \"generated\": 0, \"type\": \"real\", \"max\": 80.0, \"min\": 12.5, \"mean\": 28.333333333333336, \"missing\": 0.0, \"stddev\": 21.92, \"outliers\": [], \"validation\": []}, {\"column\": \"INDUS\", \"alias\": \"INDUS\", \"generated\": 0, \"type\": \"real\", \"max\": 12.83, \"min\": 1.38, \"mean\": 8.480526315789476, \"missing\": 0.0, \"stddev\": 4.05, \"outliers\": [], \"validation\": []}, {\"column\": \"CHAS\", \"alias\": \"CHAS\", \"generated\": 0, \"type\": \"numeric\", \"max\": 0.0, \"min\": 0.0, \"mean\": 0.0, \"missing\": 0.0, \"stddev\": 0.0, \"outliers\": [], \"validation\": []}, {\"column\": \"NOX\", \"alias\": \"NOX\", \"generated\": 0, \"type\": \"real\", \"max\": 0.437, \"min\": 0.398, \"mean\": 0.4205842105263158, \"missing\": 0.0, \"stddev\": 0.01, \"outliers\": [], \"validation\": []}, {\"column\": \"RM\", \"alias\": \"RM\", \"generated\": 0, \"type\": \"real\", \"max\": 7.104, \"min\": 5.594, \"mean\": 6.2083157894736845, \"missing\": 0.0, \"stddev\": 0.36, \"outliers\": [7.104], \"validation\": []}, {\"column\": \"AGE\", \"alias\": \"AGE\", \"generated\": 0, \"type\": \"real\", \"max\": 74.5, \"min\": 6.0, \"mean\": 33.44210526315789, \"missing\": 0.0, \"stddev\": 21.05, \"outliers\": [], \"validation\": []}, {\"column\": \"DIS\", \"alias\": \"DIS\", \"generated\": 0, \"type\": \"real\", \"max\": 9.2229, \"min\": 4.0522, \"mean\": 5.563405263157895, \"missing\": 0.0, \"stddev\": 1.23, \"outliers\": [9.2229], \"validation\": []}, {\"column\": \"RAD\", \"alias\": \"RAD\", \"generated\": 0, \"type\": \"numeric\", \"max\": 5.0, \"min\": 3.0, \"mean\": 4.2631578947368425, \"missing\": 0.0, \"stddev\": 0.56, \"outliers\": [], \"validation\": []}, {\"column\": \"TAX\", \"alias\": \"TAX\", \"generated\": 0, \"type\": \"numeric\", \"max\": 398.0, \"min\": 216.0, \"mean\": 335.57894736842104, \"missing\": 0.0, \"stddev\": 53.03, \"outliers\": [], \"validation\": []}, {\"column\": \"PTRATIO\", \"alias\": \"PTRATIO\", \"generated\": 0, \"type\": \"real\", \"max\": 19.2, \"min\": 16.1, \"mean\": 18.605263157894736, \"missing\": 0.0, \"stddev\": 0.91, \"outliers\": [16.1, 16.1], \"validation\": []}, {\"column\": \"B\", \"alias\": \"B\", \"generated\": 0, \"type\": \"real\", \"max\": 396.9, \"min\": 373.66, \"mean\": 390.34, \"missing\": 0.0, \"stddev\": 7.94, \"outliers\": [], \"validation\": []}, {\"column\": \"LSTAT\", \"alias\": \"LSTAT\", \"generated\": 0, \"type\": \"real\", \"max\": 13.09, \"min\": 4.67, \"mean\": 8.48578947368421, \"missing\": 0.0, \"stddev\": 2.39, \"outliers\": [], \"validation\": []}]}, \"predictionPowerScore\": [{\"AGE\": 1.0, \"B\": 0.0, \"CHAS\": 0.0, \"CRIM\": 0.0, \"DIS\": 0.0, \"INDUS\": 0.0, \"LSTAT\": 0.0, \"NOX\": 0.0, \"PTRATIO\": 0.0, \"RAD\": 0.0, \"RM\": 0.0, \"TAX\": 0.0, \"ZN\": 0.0}, {\"AGE\": 0.0, \"B\": 1.0, \"CHAS\": 0.0, \"CRIM\": 0.0, \"DIS\": 0.1201990432, \"INDUS\": 0.3999604903, \"LSTAT\": 0.0, \"NOX\": 0.3163708782, \"PTRATIO\": 0.3901407398, \"RAD\": 0.0193826799, \"RM\": 0.0, \"TAX\": 0.4033960505, \"ZN\": 0.1760148184}, {\"AGE\": 0.0, \"B\": 0.0, \"CHAS\": 1.0, \"CRIM\": 0.0, \"DIS\": 0.0, \"INDUS\": 0.0, \"LSTAT\": 0.0, \"NOX\": 0.0, \"PTRATIO\": 0.0, \"RAD\": 0.0, \"RM\": 0.0, \"TAX\": 0.0, \"ZN\": 0.0}, {\"AGE\": 0.0, \"B\": 0.0259329438, \"CHAS\": 0.00742728, \"CRIM\": 1.0, \"DIS\": 0.030499265, \"INDUS\": 0.1514686581, \"LSTAT\": 0.0, \"NOX\": 0.0, \"PTRATIO\": 0.0841601293, \"RAD\": 0.0, \"RM\": 0.0, \"TAX\": 0.1500935606, \"ZN\": 0.153351635}, {\"AGE\": 0.0, \"B\": 0.0, \"CHAS\": 0.0, \"CRIM\": 0.0, \"DIS\": 1.0, \"INDUS\": 0.7297822417, \"LSTAT\": 0.0, \"NOX\": 0.6504968246, \"PTRATIO\": 0.5902773489, \"RAD\": 0.2268031939, \"RM\": 0.0, \"TAX\": 0.657286559, \"ZN\": 0.1437892118}, {\"AGE\": 0.1108138686, \"B\": 0.1174222628, \"CHAS\": 0.0, \"CRIM\": 0.4815565693, \"DIS\": 0.9443868613, \"INDUS\": 1.0, \"LSTAT\": 0.0, \"NOX\": 0.8692189781, \"PTRATIO\": 0.8412043796, \"RAD\": 0.4418648187, \"RM\": 0.1229835766, \"TAX\": 0.9517372263, \"ZN\": 0.4177865398}, {\"AGE\": 0.0, \"B\": 0.0, \"CHAS\": 0.0, \"CRIM\": 0.0, \"DIS\": 0.0, \"INDUS\": 0.0, \"LSTAT\": 1.0, \"NOX\": 0.0, \"PTRATIO\": 0.0, \"RAD\": 0.0, \"RM\": 0.0, \"TAX\": 0.0, \"ZN\": 0.0}, {\"AGE\": 0.0, \"B\": 0.0, \"CHAS\": 0.0, \"CRIM\": 0.0, \"DIS\": 0.8222444444, \"INDUS\": 0.9235777778, \"LSTAT\": 0.0, \"NOX\": 1.0, \"PTRATIO\": 0.9117555556, \"RAD\": 0.5772809203, \"RM\": 0.0, \"TAX\": 0.9582, \"ZN\": 0.3778203704}, {\"AGE\": 0.0, \"B\": 0.0, \"CHAS\": 0.0, \"CRIM\": 0.0, \"DIS\": 0.6686046512, \"INDUS\": 0.7238372093, \"LSTAT\": 0.0, \"NOX\": 0.9337209302, \"PTRATIO\": 1.0, \"RAD\": 0.0, \"RM\": 0.0, \"TAX\": 0.9558139535, \"ZN\": 0.8670802187}, {\"AGE\": 0.1517857143, \"B\": 0.0, \"CHAS\": 0.0, \"CRIM\": 0.1857142857, \"DIS\": 0.7285714286, \"INDUS\": 0.8642857143, \"LSTAT\": 0.0, \"NOX\": 0.8642857143, \"PTRATIO\": 0.7285714286, \"RAD\": 1.0, \"RM\": 0.0, \"TAX\": 0.8642857143, \"ZN\": 0.1156356293}, {\"AGE\": 0.0, \"B\": 0.0, \"CHAS\": 0.0, \"CRIM\": 0.0, \"DIS\": 0.0, \"INDUS\": 0.0510623677, \"LSTAT\": 0.0, \"NOX\": 0.0839876562, \"PTRATIO\": 0.0889183398, \"RAD\": 0.0, \"RM\": 1.0, \"TAX\": 0.1504870074, \"ZN\": 0.0}, {\"AGE\": 0.0332249071, \"B\": 0.0, \"CHAS\": 0.0, \"CRIM\": 0.2183395291, \"DIS\": 0.7480793061, \"INDUS\": 0.85755886, \"LSTAT\": 0.0, \"NOX\": 0.8952292441, \"PTRATIO\": 0.7857496902, \"RAD\": 0.5281876116, \"RM\": 0.0140954151, \"TAX\": 1.0, \"ZN\": 0.5039663178}, {\"AGE\": 0.0, \"B\": 0.0, \"CHAS\": 0.0, \"CRIM\": 0.0, \"DIS\": 0.7002816901, \"INDUS\": 0.7992957746, \"LSTAT\": 0.0, \"NOX\": 0.9170422535, \"PTRATIO\": 0.983943662, \"RAD\": 0.0384993293, \"RM\": 0.0, \"TAX\": 0.975915493, \"ZN\": 1.0}], \"HasBasicStats\": 1, \"functionsApplied\": [{\"functionName\": \"replaceBy\", \"applyOn\": [{\"columnName\": \"ZN\", \"type\": \"real\", \"min\": \"12.5\", \"max\": \"80.0\", \"mean\": \"32.2\"}], \"functionsData\": [{\"replaceType\": \"none\", \"replaceValueCondition\": \"none\", \"toReplace\": \"\", \"asNewColumn\": 0, \"newColumnName\": \"\", \"replaceValueType\": \"byKnn\", \"ReplaceWith\": 2}]}, {\"functionName\": \"replaceBy\", \"applyOn\": [{\"columnName\": \"ZN\", \"type\": \"real\", \"min\": \"12.5\", \"max\": \"80.0\", \"mean\": \"32.2\"}], \"functionsData\": [{\"replaceType\": \"none\", \"replaceValueCondition\": \"none\", \"toReplace\": \"\", \"asNewColumn\": 0, \"newColumnName\": \"\", \"replaceValueType\": \"byKnn\", \"ReplaceWith\": 2}]}], \"functionChanges\": [{\"columnName\": \"ZN\", \"functionName\": \"Replace Outliers\", \"Type\": \"real\", \"Parameters\": [{\"replaceType\": \"none\", \"replaceValueCondition\": \"none\", \"toReplace\": \"\", \"asNewColumn\": 0, \"newColumnName\": \"\", \"replaceValueType\": \"byKnn\", \"ReplaceWith\": 2}]}, {\"columnName\": \"ZN\", \"functionName\": \"Replace Outliers\", \"Type\": \"real\", \"Parameters\": [{\"replaceType\": \"none\", \"replaceValueCondition\": \"none\", \"toReplace\": \"\", \"asNewColumn\": 0, \"newColumnName\": \"\", \"replaceValueType\": \"byKnn\", \"ReplaceWith\": 2}]}], \"fileheader\": [{\"field\": \"CRIM\", \"alias\": \"CRIM\", \"generated\": 0, \"position\": 1, \"type\": \"real\"}, {\"field\": \"ZN\", \"alias\": \"ZN\", \"generated\": 0, \"position\": 2, \"type\": \"real\"}, {\"field\": \"INDUS\", \"alias\": \"INDUS\", \"generated\": 0, \"position\": 3, \"type\": \"real\"}, {\"field\": \"CHAS\", \"alias\": \"CHAS\", \"generated\": 0, \"position\": 4, \"type\": \"numeric\"}, {\"field\": \"NOX\", \"alias\": \"NOX\", \"generated\": 0, \"position\": 5, \"type\": \"real\"}, {\"field\": \"RM\", \"alias\": \"RM\", \"generated\": 0, \"position\": 6, \"type\": \"real\"}, {\"field\": \"AGE\", \"alias\": \"AGE\", \"generated\": 0, \"position\": 7, \"type\": \"real\"}, {\"field\": \"DIS\", \"alias\": \"DIS\", \"generated\": 0, \"position\": 8, \"type\": \"real\"}, {\"field\": \"RAD\", \"alias\": \"RAD\", \"generated\": 0, \"position\": 9, \"type\": \"numeric\"}, {\"field\": \"TAX\", \"alias\": \"TAX\", \"generated\": 0, \"position\": 10, \"type\": \"numeric\"}, {\"field\": \"PTRATIO\", \"alias\": \"PTRATIO\", \"generated\": 0, \"position\": 11, \"type\": \"real\"}, {\"field\": \"B\", \"alias\": \"B\", \"generated\": 0, \"position\": 12, \"type\": \"real\"}, {\"field\": \"LSTAT\", \"alias\": \"LSTAT\", \"generated\": 0, \"position\": 13, \"type\": \"real\"}]}))\n",
    "\t#operationPostExecutionHook(datapreparation)\n",
    "\n",
    "except Exception as ex: \n",
    "\tlogging.error(ex)\n"
   ]
  },
  {
   "cell_type": "markdown",
   "id": "53de36c1",
   "metadata": {},
   "source": [
    "***WRITING DATAFRAME***"
   ]
  },
  {
   "cell_type": "code",
   "execution_count": null,
   "id": "5fdf9941",
   "metadata": {},
   "outputs": [],
   "source": [
    "#%run 28mayknnimptestHooks.ipynb\n",
    "try:\n",
    "\t#sinkPreExecutionHook()\n",
    "\n",
    "\tdatapipelinetestoutput = NumtraConnector.fetch(spark, \"{'samplefile': '/FileStore/platform/sampleData/66557cd189e855664e55769a/part-00000-06a9e6f8-1814-452c-9501-63eff3a8cc95-c000.csv', 'samplecount': 19, 'originalcount': 19, 'orignalKey': '/FileStore/platform/testdata/1716878645561_Boston_Housing_TestN.csv', 'pathOnly': '/DataPipelineTest', 'project_id': '65d6eaa27ff4e119ca47d614', 'parent_id': '65d6eaa27ff4e119ca47d614', 'original_schema': [{'checked': True, 'inherited': True, 'is_categorical': False, 'bad_values': '', 'nullable': 'true', 'field': 'CRIM', 'alias': 'CRIM', 'type': 'real', 'position': '0'}, {'checked': True, 'inherited': True, 'is_categorical': False, 'bad_values': '', 'nullable': 'true', 'field': 'ZN', 'alias': 'ZN', 'type': 'real', 'position': '1'}, {'checked': True, 'inherited': True, 'is_categorical': False, 'bad_values': '', 'nullable': 'true', 'field': 'INDUS', 'alias': 'INDUS', 'type': 'real', 'position': '2'}, {'checked': True, 'inherited': True, 'is_categorical': False, 'bad_values': '', 'nullable': 'true', 'field': 'CHAS', 'alias': 'CHAS', 'type': 'numeric', 'position': '3'}, {'checked': True, 'inherited': True, 'is_categorical': False, 'bad_values': '', 'nullable': 'true', 'field': 'NOX', 'alias': 'NOX', 'type': 'real', 'position': '4'}, {'checked': True, 'inherited': True, 'is_categorical': False, 'bad_values': '', 'nullable': 'true', 'field': 'RM', 'alias': 'RM', 'type': 'real', 'position': '5'}, {'checked': True, 'inherited': True, 'is_categorical': False, 'bad_values': '', 'nullable': 'true', 'field': 'AGE', 'alias': 'AGE', 'type': 'real', 'position': '6'}, {'checked': True, 'inherited': True, 'is_categorical': False, 'bad_values': '', 'nullable': 'true', 'field': 'DIS', 'alias': 'DIS', 'type': 'real', 'position': '7'}, {'checked': True, 'inherited': True, 'is_categorical': False, 'bad_values': '', 'nullable': 'true', 'field': 'RAD', 'alias': 'RAD', 'type': 'numeric', 'position': '8'}, {'checked': True, 'inherited': True, 'is_categorical': False, 'bad_values': '', 'nullable': 'true', 'field': 'TAX', 'alias': 'TAX', 'type': 'numeric', 'position': '9'}, {'checked': True, 'inherited': True, 'is_categorical': False, 'bad_values': '', 'nullable': 'true', 'field': 'PTRATIO', 'alias': 'PTRATIO', 'type': 'real', 'position': '10'}, {'checked': True, 'inherited': True, 'is_categorical': False, 'bad_values': '', 'nullable': 'true', 'field': 'B', 'alias': 'B', 'type': 'real', 'position': '11'}, {'checked': True, 'inherited': True, 'is_categorical': False, 'bad_values': '', 'nullable': 'true', 'field': 'LSTAT', 'alias': 'LSTAT', 'type': 'real', 'position': '12'}], 'actual_schema': [{'checked': True, 'inherited': True, 'is_categorical': False, 'bad_values': '', 'nullable': 'true', 'field': 'CRIM', 'alias': 'CRIM', 'type': 'real', 'position': '0'}, {'checked': True, 'inherited': True, 'is_categorical': False, 'bad_values': '', 'nullable': 'true', 'field': 'ZN', 'alias': 'ZN', 'type': 'real', 'position': '1'}, {'checked': True, 'inherited': True, 'is_categorical': False, 'bad_values': '', 'nullable': 'true', 'field': 'INDUS', 'alias': 'INDUS', 'type': 'real', 'position': '2'}, {'checked': True, 'inherited': True, 'is_categorical': False, 'bad_values': '', 'nullable': 'true', 'field': 'CHAS', 'alias': 'CHAS', 'type': 'numeric', 'position': '3'}, {'checked': True, 'inherited': True, 'is_categorical': False, 'bad_values': '', 'nullable': 'true', 'field': 'NOX', 'alias': 'NOX', 'type': 'real', 'position': '4'}, {'checked': True, 'inherited': True, 'is_categorical': False, 'bad_values': '', 'nullable': 'true', 'field': 'RM', 'alias': 'RM', 'type': 'real', 'position': '5'}, {'checked': True, 'inherited': True, 'is_categorical': False, 'bad_values': '', 'nullable': 'true', 'field': 'AGE', 'alias': 'AGE', 'type': 'real', 'position': '6'}, {'checked': True, 'inherited': True, 'is_categorical': False, 'bad_values': '', 'nullable': 'true', 'field': 'DIS', 'alias': 'DIS', 'type': 'real', 'position': '7'}, {'checked': True, 'inherited': True, 'is_categorical': False, 'bad_values': '', 'nullable': 'true', 'field': 'RAD', 'alias': 'RAD', 'type': 'numeric', 'position': '8'}, {'checked': True, 'inherited': True, 'is_categorical': False, 'bad_values': '', 'nullable': 'true', 'field': 'TAX', 'alias': 'TAX', 'type': 'numeric', 'position': '9'}, {'checked': True, 'inherited': True, 'is_categorical': False, 'bad_values': '', 'nullable': 'true', 'field': 'PTRATIO', 'alias': 'PTRATIO', 'type': 'real', 'position': '10'}, {'checked': True, 'inherited': True, 'is_categorical': False, 'bad_values': '', 'nullable': 'true', 'field': 'B', 'alias': 'B', 'type': 'real', 'position': '11'}, {'checked': True, 'inherited': True, 'is_categorical': False, 'bad_values': '', 'nullable': 'true', 'field': 'LSTAT', 'alias': 'LSTAT', 'type': 'real', 'position': '12'}], 'server': 'https://dnm.bfirst.ai:443', 'server_url': '/nexusMax/NexusMaxPlatform/uploads/platform/', 'delimiter': ',', 'file_type': 'Delimeted', 'filename': 'BostonKNNOp.csv', 'token': '', 'domain': '', 'is_header': 'Use Header Line', 'url': '/FileStore/platform/uploadedSourceFiles/part-00000-023ee04c-836b-47dd-b2cd-64afd9128c58-c000.csv', 'results_url': 'http://dnm.bfirst.ai:44040/api/read/hdfs'}\")\n",
    "\n",
    "except Exception as ex: \n",
    "\tlogging.error(ex)\n"
   ]
  }
 ],
 "metadata": {},
 "nbformat": 4,
 "nbformat_minor": 5
}
